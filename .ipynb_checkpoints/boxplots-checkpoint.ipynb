{
 "cells": [
  {
   "cell_type": "code",
   "execution_count": 1,
   "id": "ce53b30c",
   "metadata": {},
   "outputs": [
    {
     "data": {
      "text/html": [
       "<div>\n",
       "<style scoped>\n",
       "    .dataframe tbody tr th:only-of-type {\n",
       "        vertical-align: middle;\n",
       "    }\n",
       "\n",
       "    .dataframe tbody tr th {\n",
       "        vertical-align: top;\n",
       "    }\n",
       "\n",
       "    .dataframe thead th {\n",
       "        text-align: right;\n",
       "    }\n",
       "</style>\n",
       "<table border=\"1\" class=\"dataframe\">\n",
       "  <thead>\n",
       "    <tr style=\"text-align: right;\">\n",
       "      <th></th>\n",
       "      <th>Mon</th>\n",
       "      <th>Tues</th>\n",
       "      <th>Wed</th>\n",
       "      <th>Thurs</th>\n",
       "    </tr>\n",
       "  </thead>\n",
       "  <tbody>\n",
       "    <tr>\n",
       "      <th>0</th>\n",
       "      <td>-0.111335</td>\n",
       "      <td>1.383820</td>\n",
       "      <td>-2.119668</td>\n",
       "      <td>-1.112620</td>\n",
       "    </tr>\n",
       "    <tr>\n",
       "      <th>1</th>\n",
       "      <td>1.358420</td>\n",
       "      <td>2.086486</td>\n",
       "      <td>-0.087194</td>\n",
       "      <td>-0.295326</td>\n",
       "    </tr>\n",
       "    <tr>\n",
       "      <th>2</th>\n",
       "      <td>-0.638815</td>\n",
       "      <td>-0.439854</td>\n",
       "      <td>-1.519451</td>\n",
       "      <td>0.240725</td>\n",
       "    </tr>\n",
       "    <tr>\n",
       "      <th>3</th>\n",
       "      <td>-0.988305</td>\n",
       "      <td>0.566971</td>\n",
       "      <td>-0.904167</td>\n",
       "      <td>-1.160851</td>\n",
       "    </tr>\n",
       "    <tr>\n",
       "      <th>4</th>\n",
       "      <td>-0.214713</td>\n",
       "      <td>0.870568</td>\n",
       "      <td>-1.377537</td>\n",
       "      <td>-1.274089</td>\n",
       "    </tr>\n",
       "    <tr>\n",
       "      <th>...</th>\n",
       "      <td>...</td>\n",
       "      <td>...</td>\n",
       "      <td>...</td>\n",
       "      <td>...</td>\n",
       "    </tr>\n",
       "    <tr>\n",
       "      <th>495</th>\n",
       "      <td>-0.037561</td>\n",
       "      <td>0.454937</td>\n",
       "      <td>-0.094348</td>\n",
       "      <td>1.119138</td>\n",
       "    </tr>\n",
       "    <tr>\n",
       "      <th>496</th>\n",
       "      <td>0.147353</td>\n",
       "      <td>-0.109588</td>\n",
       "      <td>-0.171579</td>\n",
       "      <td>-0.676917</td>\n",
       "    </tr>\n",
       "    <tr>\n",
       "      <th>497</th>\n",
       "      <td>-0.184899</td>\n",
       "      <td>-0.491145</td>\n",
       "      <td>-0.554267</td>\n",
       "      <td>1.081905</td>\n",
       "    </tr>\n",
       "    <tr>\n",
       "      <th>498</th>\n",
       "      <td>1.676243</td>\n",
       "      <td>0.442539</td>\n",
       "      <td>1.035264</td>\n",
       "      <td>1.128139</td>\n",
       "    </tr>\n",
       "    <tr>\n",
       "      <th>499</th>\n",
       "      <td>0.017412</td>\n",
       "      <td>0.802881</td>\n",
       "      <td>0.490979</td>\n",
       "      <td>0.021874</td>\n",
       "    </tr>\n",
       "  </tbody>\n",
       "</table>\n",
       "<p>500 rows × 4 columns</p>\n",
       "</div>"
      ],
      "text/plain": [
       "          Mon      Tues       Wed     Thurs\n",
       "0   -0.111335  1.383820 -2.119668 -1.112620\n",
       "1    1.358420  2.086486 -0.087194 -0.295326\n",
       "2   -0.638815 -0.439854 -1.519451  0.240725\n",
       "3   -0.988305  0.566971 -0.904167 -1.160851\n",
       "4   -0.214713  0.870568 -1.377537 -1.274089\n",
       "..        ...       ...       ...       ...\n",
       "495 -0.037561  0.454937 -0.094348  1.119138\n",
       "496  0.147353 -0.109588 -0.171579 -0.676917\n",
       "497 -0.184899 -0.491145 -0.554267  1.081905\n",
       "498  1.676243  0.442539  1.035264  1.128139\n",
       "499  0.017412  0.802881  0.490979  0.021874\n",
       "\n",
       "[500 rows x 4 columns]"
      ]
     },
     "execution_count": 1,
     "metadata": {},
     "output_type": "execute_result"
    }
   ],
   "source": [
    "import pandas as pd\n",
    "import numpy as np\n",
    "from numpy.random import randn\n",
    "%matplotlib inline\n",
    "\n",
    "# Create Dataframe\n",
    "my_df = pd.DataFrame(randn(500,4), columns=[\"Mon\", \"Tues\", \"Wed\", \"Thurs\"])\n",
    "my_df"
   ]
  },
  {
   "cell_type": "code",
   "execution_count": 9,
   "id": "b163dd4b",
   "metadata": {},
   "outputs": [
    {
     "data": {
      "text/plain": [
       "<AxesSubplot: >"
      ]
     },
     "execution_count": 9,
     "metadata": {},
     "output_type": "execute_result"
    },
    {
     "data": {
      "image/png": "[encoded data removed]",
      "text/plain": [
       "<Figure size 640x480 with 1 Axes>"
      ]
     },
     "metadata": {},
     "output_type": "display_data"
    }
   ],
   "source": [
    "# Boxplots\n",
    "my_df.plot(kind='box')"
   ]
  },
  {
   "cell_type": "code",
   "execution_count": 3,
   "id": "c4a18353",
   "metadata": {},
   "outputs": [],
   "source": [
    "# Boxplots Size\n"
   ]
  },
  {
   "cell_type": "code",
   "execution_count": 4,
   "id": "391ae7f7",
   "metadata": {
    "scrolled": true
   },
   "outputs": [],
   "source": [
    "# Boxplots Color\n"
   ]
  },
  {
   "cell_type": "code",
   "execution_count": 5,
   "id": "b5649164",
   "metadata": {},
   "outputs": [],
   "source": [
    "# No Legend\n"
   ]
  },
  {
   "cell_type": "code",
   "execution_count": 6,
   "id": "5a9ca5a8",
   "metadata": {},
   "outputs": [],
   "source": [
    "# Title\n"
   ]
  },
  {
   "cell_type": "code",
   "execution_count": 7,
   "id": "58fe8985",
   "metadata": {},
   "outputs": [],
   "source": [
    "# Other Way\n"
   ]
  },
  {
   "cell_type": "code",
   "execution_count": 8,
   "id": "588d3ffc",
   "metadata": {},
   "outputs": [],
   "source": [
    "# Add Grid\n"
   ]
  },
  {
   "cell_type": "code",
   "execution_count": null,
   "id": "72eb2c44",
   "metadata": {},
   "outputs": [],
   "source": []
  },
  {
   "cell_type": "code",
   "execution_count": null,
   "id": "d2055036",
   "metadata": {},
   "outputs": [],
   "source": []
  },
  {
   "cell_type": "code",
   "execution_count": null,
   "id": "4bf566d1",
   "metadata": {},
   "outputs": [],
   "source": []
  },
  {
   "cell_type": "code",
   "execution_count": null,
   "id": "5d9094b9",
   "metadata": {},
   "outputs": [],
   "source": []
  },
  {
   "cell_type": "code",
   "execution_count": null,
   "id": "64f31d1b",
   "metadata": {},
   "outputs": [],
   "source": []
  }
 ],
 "metadata": {
  "kernelspec": {
   "display_name": "Python 3 (ipykernel)",
   "language": "python",
   "name": "python3"
  },
  "language_info": {
   "codemirror_mode": {
    "name": "ipython",
    "version": 3
   },
   "file_extension": ".py",
   "mimetype": "text/x-python",
   "name": "python",
   "nbconvert_exporter": "python",
   "pygments_lexer": "ipython3",
   "version": "3.9.5"
  }
 },
 "nbformat": 4,
 "nbformat_minor": 5
}
