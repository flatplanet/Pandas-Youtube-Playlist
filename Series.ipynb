{
 "cells": [
  {
   "cell_type": "code",
   "execution_count": 1,
   "id": "40d7766e",
   "metadata": {},
   "outputs": [],
   "source": [
    "import pandas as pd\n",
    "import numpy as np"
   ]
  },
  {
   "cell_type": "code",
   "execution_count": 2,
   "id": "442989c2",
   "metadata": {},
   "outputs": [],
   "source": [
    "# Pandas Series - Like a Table Column - 1 Dimensional Array Holding Any Type of Data"
   ]
  },
  {
   "cell_type": "code",
   "execution_count": 6,
   "id": "0e46cfba",
   "metadata": {},
   "outputs": [
    {
     "data": {
      "text/plain": [
       "0     5\n",
       "1     9\n",
       "2    12\n",
       "3    27\n",
       "dtype: int64"
      ]
     },
     "execution_count": 6,
     "metadata": {},
     "output_type": "execute_result"
    }
   ],
   "source": [
    "my_series = [5,9,12,27]\n",
    "my_var = pd.Series(my_series)\n",
    "my_var"
   ]
  },
  {
   "cell_type": "code",
   "execution_count": 3,
   "id": "47c32363",
   "metadata": {},
   "outputs": [],
   "source": [
    "# Print specific value"
   ]
  },
  {
   "cell_type": "code",
   "execution_count": 7,
   "id": "476a7f5a",
   "metadata": {},
   "outputs": [
    {
     "data": {
      "text/plain": [
       "12"
      ]
     },
     "execution_count": 7,
     "metadata": {},
     "output_type": "execute_result"
    }
   ],
   "source": [
    "my_var[2]"
   ]
  },
  {
   "cell_type": "code",
   "execution_count": 4,
   "id": "17055ac9",
   "metadata": {},
   "outputs": [],
   "source": [
    "# Labels using the index argument"
   ]
  },
  {
   "cell_type": "code",
   "execution_count": 11,
   "id": "8e2f2764",
   "metadata": {},
   "outputs": [
    {
     "data": {
      "text/plain": [
       "A     5\n",
       "B     9\n",
       "C    12\n",
       "D    27\n",
       "dtype: int64"
      ]
     },
     "execution_count": 11,
     "metadata": {},
     "output_type": "execute_result"
    }
   ],
   "source": [
    "my_index = [\"A\", \"B\", \"C\", \"D\"]\n",
    "my_var2 = pd.Series(my_series, index=my_index)\n",
    "my_var2"
   ]
  },
  {
   "cell_type": "code",
   "execution_count": 14,
   "id": "cf376ac3",
   "metadata": {},
   "outputs": [
    {
     "data": {
      "text/plain": [
       "12"
      ]
     },
     "execution_count": 14,
     "metadata": {},
     "output_type": "execute_result"
    }
   ],
   "source": [
    "my_var2[\"C\"]"
   ]
  },
  {
   "cell_type": "code",
   "execution_count": 5,
   "id": "0e932557",
   "metadata": {},
   "outputs": [],
   "source": [
    "# Key Value Dictionary"
   ]
  },
  {
   "cell_type": "code",
   "execution_count": 16,
   "id": "924473d1",
   "metadata": {},
   "outputs": [
    {
     "data": {
      "text/plain": [
       "Tesla       12\n",
       "Mercedes    42\n",
       "BMW          3\n",
       "dtype: int64"
      ]
     },
     "execution_count": 16,
     "metadata": {},
     "output_type": "execute_result"
    }
   ],
   "source": [
    "cars = {\"Tesla\":12, \"Mercedes\":42, \"BMW\":3}\n",
    "my_var3 = pd.Series(cars)\n",
    "my_var3"
   ]
  },
  {
   "cell_type": "code",
   "execution_count": 17,
   "id": "9a6fd50f",
   "metadata": {},
   "outputs": [
    {
     "data": {
      "text/plain": [
       "12"
      ]
     },
     "execution_count": 17,
     "metadata": {},
     "output_type": "execute_result"
    }
   ],
   "source": [
    "my_var3[\"Tesla\"]"
   ]
  },
  {
   "cell_type": "code",
   "execution_count": null,
   "id": "77ba5e2b",
   "metadata": {},
   "outputs": [],
   "source": []
  }
 ],
 "metadata": {
  "kernelspec": {
   "display_name": "Python 3 (ipykernel)",
   "language": "python",
   "name": "python3"
  },
  "language_info": {
   "codemirror_mode": {
    "name": "ipython",
    "version": 3
   },
   "file_extension": ".py",
   "mimetype": "text/x-python",
   "name": "python",
   "nbconvert_exporter": "python",
   "pygments_lexer": "ipython3",
   "version": "3.9.5"
  }
 },
 "nbformat": 4,
 "nbformat_minor": 5
}
